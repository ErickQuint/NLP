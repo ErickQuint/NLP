{
 "cells": [
  {
   "cell_type": "code",
   "execution_count": 1,
   "id": "2ad9ae29",
   "metadata": {},
   "outputs": [],
   "source": [
    "def construir_diccionario(texto1, texto2):\n",
    "    vocabulario = {}\n",
    "    i = 0\n",
    "\n",
    "    for palabra in texto1:\n",
    "        if palabra not in vocabulario:\n",
    "            vocabulario[palabra] = i\n",
    "            i += 1\n",
    "\n",
    "\n",
    "    for palabra in texto2:\n",
    "        if palabra not in vocabulario:\n",
    "            vocabulario[palabra] = i\n",
    "            i += 1\n",
    "            \n",
    "    return vocabulario"
   ]
  },
  {
   "cell_type": "code",
   "execution_count": 2,
   "id": "fa91e2ae",
   "metadata": {},
   "outputs": [],
   "source": [
    "import numpy as np\n",
    "\n",
    "def frecuencias_de_terminos(texto1, texto2):\n",
    "    vocabulario = construir_diccionario(texto1, texto2)\n",
    "    #print(vocabulario)\n",
    "\n",
    "    a = np.zeros(len(vocabulario))\n",
    "    b = np.zeros(len(vocabulario))\n",
    "\n",
    "    for palabra in texto1:\n",
    "        i = vocabulario[palabra] \n",
    "        a[i] += 1 \n",
    "\n",
    "    for palabra in texto2:\n",
    "        i = vocabulario[palabra]\n",
    "        b[i] += 1\n",
    "    \n",
    "    return a, b"
   ]
  },
  {
   "cell_type": "code",
   "execution_count": 3,
   "id": "0bad28aa",
   "metadata": {},
   "outputs": [],
   "source": [
    "from math import *\n",
    " \n",
    "def raiz_cuadrada(x): \n",
    "    return round(sqrt(sum([a * a for a in x])),4)\n",
    "\n",
    "def similitudCoseno(x, y):\n",
    "    #sim_cos = np.dot(a, b) / np.sqrt(np.dot(a, a) * np.dot(b, b))\n",
    "    numerador = sum(a * b for a, b in zip(x, y))\n",
    "    denominador = raiz_cuadrada(x) * raiz_cuadrada(y)\n",
    "    \n",
    "    sim_cos = round(numerador/float(denominador),4)\n",
    "    \n",
    "    return sim_cos"
   ]
  },
  {
   "cell_type": "code",
   "execution_count": 4,
   "id": "82e65c8c",
   "metadata": {},
   "outputs": [],
   "source": [
    "from nltk.corpus import stopwords\n",
    "\n",
    "texto1 = \"La inteligencia artificial (IA) actual funciona bien cuando la aplicas a un ámbito muy concreto: desde jugar al ajedrez a hacer un diagnóstico médico. Pero el gran reto en el siglo XXI, consiste en alcanzar una inteligencia artificial general (AGI por sus siglas en inglés), que es aquella IA capaz de aprender tareas intelectuales como lo hacen los humanos. En este contexto, destaca GPT-3, un modelo de IA que permite generar lenguaje escrito. Es lo que se conoce como un modelo de lenguaje auto-regresivo, es decir, 'un algoritmo que permite crear la siguiente mejor palabra que seguiría a un texto dado', explica César de Pablo, científico de datos en BBVA Data &Analytics.\"\n",
    "texto2 = \"Desde Yo, robot la humanidad ha vivido aterrada con la idea de que los robots cobren vida y consciencia propia. Puede que la inteligencia artificial nos ponga un paso más cerca de ese día, y según algunos eso ya habría ocurrido en los cuarteles de una de los gigantes tecnológicos más importantes del siglo XXI: Google. El programa LaMDA, una IA  especializada en conversaciones, pudo haber cobrado consciencia según uno de los ingenieros participantes en el proyecto. LaMDA (Language Model for Dialogue Applications, modelo de lenguaje para aplicaciones de diálogo en español) es un programa diseñado para tener conversaciones realistas con un ser humano prestando atención a 'un aparente sinnúmero de temas', como sucede normalmente en nuestras pláticas.\"\n",
    "texto3 = \"El francés Aspect, el estadounidense Clauser y el austriaco Zeilinger son tres pioneros de los revolucionarios mecanismos de la física cuántica. Han sido premiados por sus descubrimientos sobre el 'entrelazamiento cuántico', un fenómeno por el que dos partículas cuánticas están perfectamente correlacionadas, independientemente de la distancia que las separe, segñun ha anunciado el jurado del Nobel.\"\n",
    "def minusculas(texto):\n",
    "    return texto.lower()\n",
    "\n",
    "def remover_puntuaciones(texto):\n",
    "    punctuaciones = '''!()-[]{};:'\"\\,<>./?@#$%^&*_~'''\n",
    "    \n",
    "    for c in texto:\n",
    "        if c in punctuaciones:\n",
    "            texto = texto.replace(c, '')\n",
    "    \n",
    "    return texto\n",
    "\n",
    "def tokenizar(texto):\n",
    "    return texto.split(' ')\n",
    "\n",
    "def generar_bigramas(tokens):\n",
    "    bigramas=[]\n",
    "    \n",
    "    for i in range(len(tokens)-1):\n",
    "        bigrama = [tokens[j] for j in range(i,i + 2)]\n",
    "        bigramas.append(\" \".join(bigrama))\n",
    "        \n",
    "    return bigramas\n",
    "\n",
    "def remover_stopwords(texto_tokenizado):   \n",
    "    stop_words = stopwords.words('spanish')\n",
    "    texto_tokenizado = [palabra for palabra in texto_tokenizado if palabra not in stop_words]\n",
    "    \n",
    "    return texto_tokenizado\n",
    "\n",
    "texto1 = minusculas(texto1)\n",
    "texto1 = remover_puntuaciones(texto1)\n",
    "texto1_tokenizado = tokenizar(texto1)\n",
    "texto1_bigramas = generar_bigramas(texto1_tokenizado)\n",
    "\n",
    "texto2 = minusculas(texto2)\n",
    "texto2 = remover_puntuaciones(texto2)\n",
    "texto2_tokenizado = tokenizar(texto2)\n",
    "texto2_bigramas = generar_bigramas(texto2_tokenizado)\n",
    "\n",
    "texto3 = minusculas(texto3)\n",
    "texto3 = remover_puntuaciones(texto3)\n",
    "texto3_tokenizado = tokenizar(texto3)\n",
    "texto3_bigramas = generar_bigramas(texto3_tokenizado)"
   ]
  },
  {
   "cell_type": "code",
   "execution_count": 6,
   "id": "9a57f9ac",
   "metadata": {},
   "outputs": [
    {
     "name": "stdout",
     "output_type": "stream",
     "text": [
      "0.083\n",
      "0.012\n",
      "0.0242\n"
     ]
    }
   ],
   "source": [
    "a, b = frecuencias_de_terminos(texto1_bigramas, texto2_bigramas)\n",
    "sim = similitudCoseno(a,b)\n",
    "print(sim)\n",
    "\n",
    "a, b = frecuencias_de_terminos(texto1_bigramas, texto3_bigramas)\n",
    "sim = similitudCoseno(a,b)\n",
    "print(sim)\n",
    "\n",
    "a, b = frecuencias_de_terminos(texto2_bigramas, texto3_bigramas)\n",
    "sim = similitudCoseno(a,b)\n",
    "print(sim)"
   ]
  }
 ],
 "metadata": {
  "kernelspec": {
   "display_name": "Python 3 (ipykernel)",
   "language": "python",
   "name": "python3"
  },
  "language_info": {
   "codemirror_mode": {
    "name": "ipython",
    "version": 3
   },
   "file_extension": ".py",
   "mimetype": "text/x-python",
   "name": "python",
   "nbconvert_exporter": "python",
   "pygments_lexer": "ipython3",
   "version": "3.9.7"
  }
 },
 "nbformat": 4,
 "nbformat_minor": 5
}
