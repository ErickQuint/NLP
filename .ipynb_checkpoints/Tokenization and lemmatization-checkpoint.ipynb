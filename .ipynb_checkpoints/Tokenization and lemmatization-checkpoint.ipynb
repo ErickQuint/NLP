{
 "cells": [
  {
   "cell_type": "code",
   "execution_count": 2,
   "id": "fb7636cf",
   "metadata": {},
   "outputs": [
    {
     "data": {
      "application/vnd.jupyter.widget-view+json": {
       "model_id": "1613e6c7317e48608932011afc7f4df0",
       "version_major": 2,
       "version_minor": 0
      },
      "text/plain": [
       "Downloading https://raw.githubusercontent.com/stanfordnlp/stanza-resources/main/resources_1.4.0.json:   0%|   …"
      ]
     },
     "metadata": {},
     "output_type": "display_data"
    },
    {
     "name": "stderr",
     "output_type": "stream",
     "text": [
      "2022-09-12 20:03:46 INFO: Downloading default packages for language: es (Spanish)...\n"
     ]
    },
    {
     "data": {
      "application/vnd.jupyter.widget-view+json": {
       "model_id": "db34f53939654d11b7baae254308f43f",
       "version_major": 2,
       "version_minor": 0
      },
      "text/plain": [
       "Downloading https://huggingface.co/stanfordnlp/stanza-es/resolve/v1.4.0/models/default.zip:   0%|          | 0…"
      ]
     },
     "metadata": {},
     "output_type": "display_data"
    },
    {
     "name": "stderr",
     "output_type": "stream",
     "text": [
      "2022-09-12 20:05:47 INFO: Finished downloading models and saved to C:\\Users\\erick\\stanza_resources.\n"
     ]
    }
   ],
   "source": [
    "import stanza\n",
    "stanza.download('es')"
   ]
  },
  {
   "cell_type": "code",
   "execution_count": 1,
   "id": "44c0c6bf",
   "metadata": {},
   "outputs": [
    {
     "data": {
      "application/vnd.jupyter.widget-view+json": {
       "model_id": "822a1d3a33974e52988bd5a94ab0b36b",
       "version_major": 2,
       "version_minor": 0
      },
      "text/plain": [
       "Downloading https://raw.githubusercontent.com/stanfordnlp/stanza-resources/main/resources_1.4.0.json:   0%|   …"
      ]
     },
     "metadata": {},
     "output_type": "display_data"
    },
    {
     "name": "stderr",
     "output_type": "stream",
     "text": [
      "2023-05-04 11:37:48 INFO: Loading these models for language: es (Spanish):\n",
      "=======================\n",
      "| Processor | Package |\n",
      "-----------------------\n",
      "| tokenize  | ancora  |\n",
      "| mwt       | ancora  |\n",
      "| pos       | ancora  |\n",
      "| lemma     | ancora  |\n",
      "=======================\n",
      "\n",
      "2023-05-04 11:37:48 INFO: Use device: cpu\n",
      "2023-05-04 11:37:48 INFO: Loading: tokenize\n",
      "2023-05-04 11:37:48 INFO: Loading: mwt\n",
      "2023-05-04 11:37:48 INFO: Loading: pos\n",
      "2023-05-04 11:37:48 INFO: Loading: lemma\n",
      "2023-05-04 11:37:49 INFO: Done loading processors!\n"
     ]
    },
    {
     "name": "stdout",
     "output_type": "stream",
     "text": [
      "['doler', 'doler', 'doler', 'doloroso', 'doloroso', 'dolerme', 'doler', 'doler', 'dolor', 'dolorido', 'dolido', 'dolorosamente', 'dolorimiento']\n"
     ]
    }
   ],
   "source": [
    "import stanza\n",
    "\n",
    "texto = \"dolia dolía doler doloroso dolorosa dolerme dolerá duele dolor dolorido dolido dolorosamente dolorimiento\"\n",
    "\n",
    "nlp = stanza.Pipeline('es',processors='tokenize,mwt,pos,lemma')\n",
    "doc = nlp(texto)\n",
    "\n",
    "tokens = []\n",
    "\n",
    "for sent in doc.sentences:\n",
    "    for word in sent.words:\n",
    "        tokens.append(word.lemma)\n",
    "                \n",
    "print(tokens)"
   ]
  },
  {
   "cell_type": "code",
   "execution_count": 2,
   "id": "a78b3c1c",
   "metadata": {},
   "outputs": [
    {
     "name": "stdout",
     "output_type": "stream",
     "text": [
      "['siguelo', 'para', 'conocer él', 'a', 'ver', 'quién', 'ser']\n"
     ]
    }
   ],
   "source": [
    "import spacy\n",
    "\n",
    "nlp = spacy.load('es_core_news_sm')\n",
    "\n",
    "texto = 'siguelo para conocerlo a ver quién es'\n",
    "doc = nlp(texto)\n",
    "\n",
    "lista_tokens = [token.lemma_ for token in doc]\n",
    "print(lista_tokens)"
   ]
  }
 ],
 "metadata": {
  "kernelspec": {
   "display_name": "Python 3 (ipykernel)",
   "language": "python",
   "name": "python3"
  },
  "language_info": {
   "codemirror_mode": {
    "name": "ipython",
    "version": 3
   },
   "file_extension": ".py",
   "mimetype": "text/x-python",
   "name": "python",
   "nbconvert_exporter": "python",
   "pygments_lexer": "ipython3",
   "version": "3.9.7"
  }
 },
 "nbformat": 4,
 "nbformat_minor": 5
}
