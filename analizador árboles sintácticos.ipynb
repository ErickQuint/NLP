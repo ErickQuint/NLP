{
 "cells": [
  {
   "cell_type": "markdown",
   "id": "ccd1c603",
   "metadata": {},
   "source": [
    "# Método dependencias"
   ]
  },
  {
   "cell_type": "code",
   "execution_count": 1,
   "id": "fccff508",
   "metadata": {},
   "outputs": [
    {
     "data": {
      "application/vnd.jupyter.widget-view+json": {
       "model_id": "39f8d506d95d4857bbe93260bae3d731",
       "version_major": 2,
       "version_minor": 0
      },
      "text/plain": [
       "Downloading https://raw.githubusercontent.com/stanfordnlp/stanza-resources/main/resources_1.4.0.json:   0%|   …"
      ]
     },
     "metadata": {},
     "output_type": "display_data"
    },
    {
     "name": "stderr",
     "output_type": "stream",
     "text": [
      "2023-05-04 11:41:12 WARNING: Can not find mwt: default from official model list. Ignoring it.\n",
      "2023-05-04 11:41:14 INFO: Loading these models for language: en (English):\n",
      "========================\n",
      "| Processor | Package  |\n",
      "------------------------\n",
      "| tokenize  | combined |\n",
      "| pos       | combined |\n",
      "| lemma     | combined |\n",
      "| depparse  | combined |\n",
      "========================\n",
      "\n",
      "2023-05-04 11:41:14 INFO: Use device: cpu\n",
      "2023-05-04 11:41:14 INFO: Loading: tokenize\n",
      "2023-05-04 11:41:14 INFO: Loading: pos\n",
      "2023-05-04 11:41:15 INFO: Loading: lemma\n",
      "2023-05-04 11:41:15 INFO: Loading: depparse\n",
      "2023-05-04 11:41:15 INFO: Done loading processors!\n"
     ]
    },
    {
     "name": "stdout",
     "output_type": "stream",
     "text": [
      "id: 1\tword: The\thead id: 3\thead: goal\tdeprel: det\n",
      "id: 2\tword: ultimate\thead id: 3\thead: goal\tdeprel: amod\n",
      "id: 3\tword: goal\thead id: 8\thead: is\tdeprel: nsubj\n",
      "id: 4\tword: of\thead id: 7\thead: program\tdeprel: case\n",
      "id: 5\tword: the\thead id: 7\thead: program\tdeprel: det\n",
      "id: 6\tword: Artemis\thead id: 7\thead: program\tdeprel: compound\n",
      "id: 7\tword: program\thead id: 3\thead: goal\tdeprel: nmod\n",
      "id: 8\tword: is\thead id: 0\thead: root\tdeprel: root\n",
      "id: 9\tword: to\thead id: 10\thead: return\tdeprel: mark\n",
      "id: 10\tword: return\thead id: 8\thead: is\tdeprel: ccomp\n",
      "id: 11\tword: humans\thead id: 10\thead: return\tdeprel: obj\n",
      "id: 12\tword: to\thead id: 14\thead: moon\tdeprel: case\n",
      "id: 13\tword: the\thead id: 14\thead: moon\tdeprel: det\n",
      "id: 14\tword: moon\thead id: 10\thead: return\tdeprel: obl\n",
      "id: 15\tword: and\thead id: 16\thead: make\tdeprel: cc\n",
      "id: 16\tword: make\thead id: 10\thead: return\tdeprel: conj\n",
      "id: 17\tword: many\thead id: 18\thead: trips\tdeprel: amod\n",
      "id: 18\tword: trips\thead id: 16\thead: make\tdeprel: obj\n",
      "id: 19\tword: ,\thead id: 20\thead: building\tdeprel: punct\n",
      "id: 20\tword: building\thead id: 16\thead: make\tdeprel: advcl\n",
      "id: 21\tword: infrastructure\thead id: 20\thead: building\tdeprel: obj\n",
      "id: 22\tword: that\thead id: 23\thead: allows\tdeprel: nsubj\n",
      "id: 23\tword: allows\thead id: 21\thead: infrastructure\tdeprel: acl:relcl\n",
      "id: 24\tword: crews\thead id: 23\thead: allows\tdeprel: obj\n",
      "id: 25\tword: to\thead id: 26\thead: spend\tdeprel: mark\n",
      "id: 26\tword: spend\thead id: 23\thead: allows\tdeprel: xcomp\n",
      "id: 27\tword: more\thead id: 28\thead: time\tdeprel: amod\n",
      "id: 28\tword: time\thead id: 26\thead: spend\tdeprel: obj\n",
      "id: 29\tword: there\thead id: 26\thead: spend\tdeprel: advmod\n",
      "id: 30\tword: .\thead id: 8\thead: is\tdeprel: punct\n"
     ]
    }
   ],
   "source": [
    "import stanza\n",
    "\n",
    "nlp = stanza.Pipeline(lang='en', processors='tokenize,mwt,pos,lemma,depparse')\n",
    "doc = nlp('The ultimate goal of the Artemis program is to return humans to the moon and make many trips, building infrastructure that allows crews to spend more time there.')\n",
    "\n",
    "print(*[f'id: {word.id}\\tword: {word.text}\\thead id: {word.head}\\thead: {sent.words[word.head-1].text if word.head > 0 else \"root\"}\\tdeprel: {word.deprel}' for sent in doc.sentences for word in sent.words], sep='\\n')"
   ]
  },
  {
   "cell_type": "markdown",
   "id": "a889b1a7",
   "metadata": {},
   "source": [
    "# Método constituyentes"
   ]
  },
  {
   "cell_type": "code",
   "execution_count": 2,
   "id": "0dd83eca",
   "metadata": {},
   "outputs": [
    {
     "data": {
      "application/vnd.jupyter.widget-view+json": {
       "model_id": "92c2d15a7ec846bfabf9384316f4fbf9",
       "version_major": 2,
       "version_minor": 0
      },
      "text/plain": [
       "Downloading https://raw.githubusercontent.com/stanfordnlp/stanza-resources/main/resources_1.4.0.json:   0%|   …"
      ]
     },
     "metadata": {},
     "output_type": "display_data"
    },
    {
     "name": "stderr",
     "output_type": "stream",
     "text": [
      "2023-05-04 11:41:55 INFO: Loading these models for language: en (English):\n",
      "===========================\n",
      "| Processor    | Package  |\n",
      "---------------------------\n",
      "| tokenize     | combined |\n",
      "| pos          | combined |\n",
      "| constituency | wsj      |\n",
      "===========================\n",
      "\n",
      "2023-05-04 11:41:55 INFO: Use device: cpu\n",
      "2023-05-04 11:41:55 INFO: Loading: tokenize\n",
      "2023-05-04 11:41:55 INFO: Loading: pos\n",
      "2023-05-04 11:41:55 INFO: Loading: constituency\n",
      "2023-05-04 11:41:57 INFO: Done loading processors!\n"
     ]
    },
    {
     "name": "stdout",
     "output_type": "stream",
     "text": [
      "(ROOT (S (NP (NP (DT The) (JJ ultimate) (NN goal)) (PP (IN of) (NP (DT the) (NNP Artemis) (NN program)))) (VP (VBZ is) (S (VP (TO to) (VP (VP (VB return) (NP (NNS humans)) (PP (IN to) (NP (DT the) (NN moon)))) (CC and) (VP (VB make) (NP (NP (JJ many) (NNS trips)) (, ,) (NP (NP (VBG building) (NN infrastructure)) (SBAR (WHNP (WDT that)) (S (VP (VBZ allows) (S (NP (NNS crews)) (VP (TO to) (VP (VB spend) (NP (JJR more) (NN time)) (ADVP (RB there))))))))))))))) (. .)))\n"
     ]
    }
   ],
   "source": [
    "import stanza\n",
    "\n",
    "nlp = stanza.Pipeline(lang='en', processors='tokenize,pos,constituency')\n",
    "doc = nlp('The ultimate goal of the Artemis program is to return humans to the moon and make many trips, building infrastructure that allows crews to spend more time there.')\n",
    "\n",
    "for sentence in doc.sentences:\n",
    "    print(sentence.constituency)"
   ]
  },
  {
   "cell_type": "markdown",
   "id": "ea539e64",
   "metadata": {},
   "source": [
    "# Formato universal dependencias"
   ]
  },
  {
   "cell_type": "code",
   "execution_count": 1,
   "id": "d002a83e",
   "metadata": {},
   "outputs": [
    {
     "data": {
      "application/vnd.jupyter.widget-view+json": {
       "model_id": "475ff35d3212439d802fc85a4fbd9030",
       "version_major": 2,
       "version_minor": 0
      },
      "text/plain": [
       "Downloading https://raw.githubusercontent.com/stanfordnlp/stanza-resources/main/resources_1.4.0.json:   0%|   …"
      ]
     },
     "metadata": {},
     "output_type": "display_data"
    },
    {
     "name": "stderr",
     "output_type": "stream",
     "text": [
      "2023-05-02 12:28:11 WARNING: Can not find mwt: default from official model list. Ignoring it.\n",
      "2023-05-02 12:28:13 INFO: Loading these models for language: en (English):\n",
      "========================\n",
      "| Processor | Package  |\n",
      "------------------------\n",
      "| tokenize  | combined |\n",
      "| pos       | combined |\n",
      "| lemma     | combined |\n",
      "| depparse  | combined |\n",
      "========================\n",
      "\n",
      "2023-05-02 12:28:13 INFO: Use device: cpu\n",
      "2023-05-02 12:28:13 INFO: Loading: tokenize\n",
      "2023-05-02 12:28:13 INFO: Loading: pos\n",
      "2023-05-02 12:28:13 INFO: Loading: lemma\n",
      "2023-05-02 12:28:13 INFO: Loading: depparse\n",
      "2023-05-02 12:28:14 INFO: Done loading processors!\n"
     ]
    }
   ],
   "source": [
    "import stanza\n",
    "\n",
    "nlp = stanza.Pipeline(lang='en', processors='tokenize,mwt,pos,lemma,depparse')\n",
    "doc = nlp('The ultimate goal of the Artemis program is to return humans to the moon and make many trips, building infrastructure that allows crews to spend more time there.')\n",
    "\n",
    "dependencies = []\n",
    "\n",
    "for sent in doc.sentences:\n",
    "    for word in sent.words:\n",
    "        if word.head > 0:\n",
    "            head = sent.words[word.head-1].text\n",
    "        else:\n",
    "            head = 'root'\n",
    "        \n",
    "        dependencie = word.deprel + '(' + head + '-' + str(word.head) + ', ' + word.text + '-' + str(word.id) + ')'\n",
    "        dependencies.append(dependencie)\n",
    "        \n",
    "with open(\"dependencies.txt\", \"w\") as f:\n",
    "    for dependencie in dependencies:\n",
    "        f.write(dependencie)\n",
    "        f.write(\"\\n\")"
   ]
  }
 ],
 "metadata": {
  "kernelspec": {
   "display_name": "Python 3 (ipykernel)",
   "language": "python",
   "name": "python3"
  },
  "language_info": {
   "codemirror_mode": {
    "name": "ipython",
    "version": 3
   },
   "file_extension": ".py",
   "mimetype": "text/x-python",
   "name": "python",
   "nbconvert_exporter": "python",
   "pygments_lexer": "ipython3",
   "version": "3.9.7"
  }
 },
 "nbformat": 4,
 "nbformat_minor": 5
}
